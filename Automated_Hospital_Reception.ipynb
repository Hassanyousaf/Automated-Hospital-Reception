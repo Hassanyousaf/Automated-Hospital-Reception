{
  "cells": [
    {
      "cell_type": "code",
      "execution_count": 1,
      "metadata": {
        "colab": {
          "base_uri": "https://localhost:8080/"
        },
        "id": "_cC8d1mCfGEi",
        "outputId": "8272cc78-7de8-4430-b170-9b02817abe0c"
      },
      "outputs": [
        {
          "name": "stdout",
          "output_type": "stream",
          "text": [
            "Requirement already satisfied: openpyxl in c:\\users\\hassan younas\\appdata\\local\\programs\\python\\python313\\lib\\site-packages (3.1.5)\n",
            "Requirement already satisfied: Pillow in c:\\users\\hassan younas\\appdata\\local\\programs\\python\\python313\\lib\\site-packages (11.1.0)\n",
            "Requirement already satisfied: qrcode[pil] in c:\\users\\hassan younas\\appdata\\local\\programs\\python\\python313\\lib\\site-packages (8.0)\n",
            "Requirement already satisfied: et-xmlfile in c:\\users\\hassan younas\\appdata\\local\\programs\\python\\python313\\lib\\site-packages (from openpyxl) (2.0.0)\n",
            "Requirement already satisfied: colorama in c:\\users\\hassan younas\\appdata\\roaming\\python\\python313\\site-packages (from qrcode[pil]) (0.4.6)\n",
            "Note: you may need to restart the kernel to use updated packages.\n"
          ]
        },
        {
          "name": "stderr",
          "output_type": "stream",
          "text": [
            "\n",
            "[notice] A new release of pip is available: 24.3.1 -> 25.0.1\n",
            "[notice] To update, run: python.exe -m pip install --upgrade pip\n"
          ]
        }
      ],
      "source": [
        "pip install openpyxl qrcode[pil] Pillow"
      ]
    },
    {
      "cell_type": "code",
      "execution_count": 2,
      "metadata": {
        "id": "Q8GkNixvfPR-"
      },
      "outputs": [],
      "source": [
        "import uuid\n",
        "import os\n",
        "from openpyxl import Workbook,load_workbook\n",
        "import qrcode"
      ]
    },
    {
      "cell_type": "code",
      "execution_count": 3,
      "metadata": {
        "id": "POeYt9opfPWU"
      },
      "outputs": [],
      "source": [
        "def generate_qr(patient_number,name,cnic):\n",
        "  data=f\"Patient Number: {patient_number}\\nName: {name}\\nCNIC: {cnic}\"\n",
        "\n",
        "  qr=qrcode.QRCode(\n",
        "      version=1,\n",
        "      error_correction=qrcode.constants.ERROR_CORRECT_L,\n",
        "      box_size=10,\n",
        "      border=4,\n",
        "  )\n",
        "  qr.add_data(data)\n",
        "  qr.make(fit=True)\n",
        "\n",
        "  #save\n",
        "  img=qr.make_image(fill_color=\"black\",back_color=\"white\")\n",
        "  img.save(f\"/content/qrcodes/{cnic}.png\")"
      ]
    },
    {
      "cell_type": "code",
      "execution_count": 4,
      "metadata": {
        "id": "HBY0MiwnfPYo"
      },
      "outputs": [],
      "source": [
        "def save_to_excel(patient_number, name, cnic, qr_path): # Changed cncic to cnic\n",
        "  if not os.path.exists(\"patients.xlsx\"):\n",
        "    wb=Workbook()\n",
        "    ws=wb.active\n",
        "    ws.append([\"Patient Number\",\"Name\",\"CNIC\",\"QR Code Path\"])\n",
        "  else:\n",
        "    wb=load_workbook(\"patients.xlsx\")\n",
        "    ws=wb.active\n",
        "\n",
        "  ws.append([patient_number,name,cnic,qr_path])\n",
        "  wb.save(\"patients.xlsx\")"
      ]
    },
    {
      "cell_type": "code",
      "execution_count": 5,
      "metadata": {
        "id": "AcGWw648fPbi"
      },
      "outputs": [],
      "source": [
        "#main\n",
        "def main():\n",
        "  print(\"Hospital Patient Registration System\")\n",
        "  #user input\n",
        "  name=input(\"Enter your name= \")\n",
        "  cnic=input(\"Enter your CNIC= \")\n",
        "\n",
        "  if not name or not cnic:\n",
        "    print(\"ERROR! name and cnic are required\")\n",
        "    return\n",
        "\n",
        "    #unique number generation\n",
        "  patient_number=str(uuid.uuid4())[:8]\n",
        "  #Generate\n",
        "  qr_path=generate_qr(patient_number,name,cnic)\n",
        "  #save\n",
        "  save_to_excel(patient_number,name,cnic,qr_path)\n",
        "  print(\"Patient data saved to Excel\")\n",
        "  print(f\"Patient Number: {patient_number}\")"
      ]
    },
    {
      "cell_type": "code",
      "execution_count": null,
      "metadata": {
        "colab": {
          "base_uri": "https://localhost:8080/"
        },
        "id": "EJRt997efPdo",
        "outputId": "5c330e1c-326c-4452-fa77-5e343fde00df"
      },
      "outputs": [
        {
          "name": "stdout",
          "output_type": "stream",
          "text": [
            "Hospital Patient Registration System\n"
          ]
        }
      ],
      "source": [
        "if __name__ == \"__main__\":\n",
        "  main()"
      ]
    },
    {
      "cell_type": "code",
      "execution_count": null,
      "metadata": {},
      "outputs": [],
      "source": []
    },
    {
      "cell_type": "code",
      "execution_count": null,
      "metadata": {
        "id": "wHy8XgM9fPgT"
      },
      "outputs": [],
      "source": []
    },
    {
      "cell_type": "code",
      "execution_count": null,
      "metadata": {
        "id": "hPArSLxJfPiy"
      },
      "outputs": [],
      "source": []
    },
    {
      "cell_type": "code",
      "execution_count": null,
      "metadata": {
        "id": "-18gZNgffPlP"
      },
      "outputs": [],
      "source": []
    },
    {
      "cell_type": "code",
      "execution_count": null,
      "metadata": {
        "id": "lKAO37wpfPnk"
      },
      "outputs": [],
      "source": []
    },
    {
      "cell_type": "code",
      "execution_count": null,
      "metadata": {
        "id": "WSUGiHgDfPqG"
      },
      "outputs": [],
      "source": []
    },
    {
      "cell_type": "code",
      "execution_count": null,
      "metadata": {
        "id": "SKHJ9Ak_fPsW"
      },
      "outputs": [],
      "source": []
    },
    {
      "cell_type": "code",
      "execution_count": null,
      "metadata": {
        "id": "cEbufg9RfPvL"
      },
      "outputs": [],
      "source": []
    },
    {
      "cell_type": "code",
      "execution_count": null,
      "metadata": {
        "id": "d2yZ6yiqfPxv"
      },
      "outputs": [],
      "source": []
    },
    {
      "cell_type": "code",
      "execution_count": null,
      "metadata": {
        "id": "W_ktmIVMfPz_"
      },
      "outputs": [],
      "source": []
    },
    {
      "cell_type": "code",
      "execution_count": null,
      "metadata": {
        "id": "Hoq52n5xfP21"
      },
      "outputs": [],
      "source": []
    },
    {
      "cell_type": "code",
      "execution_count": null,
      "metadata": {
        "id": "zmkqelLrfP5C"
      },
      "outputs": [],
      "source": []
    },
    {
      "cell_type": "code",
      "execution_count": null,
      "metadata": {
        "id": "RuLBMii9fP8J"
      },
      "outputs": [],
      "source": []
    },
    {
      "cell_type": "code",
      "execution_count": null,
      "metadata": {
        "id": "bMeJmc4IfP-b"
      },
      "outputs": [],
      "source": []
    },
    {
      "cell_type": "code",
      "execution_count": null,
      "metadata": {
        "id": "kxcAfUbIfQBA"
      },
      "outputs": [],
      "source": []
    },
    {
      "cell_type": "code",
      "execution_count": null,
      "metadata": {
        "id": "cnLGhLLafQDs"
      },
      "outputs": [],
      "source": []
    },
    {
      "cell_type": "code",
      "execution_count": null,
      "metadata": {
        "id": "zXs_o339fQGW"
      },
      "outputs": [],
      "source": []
    },
    {
      "cell_type": "code",
      "execution_count": null,
      "metadata": {
        "id": "-dAYCL79fQJA"
      },
      "outputs": [],
      "source": []
    },
    {
      "cell_type": "code",
      "execution_count": null,
      "metadata": {
        "id": "wdwI88LbfQLT"
      },
      "outputs": [],
      "source": []
    },
    {
      "cell_type": "code",
      "execution_count": null,
      "metadata": {
        "id": "-OZMPnRmfQN5"
      },
      "outputs": [],
      "source": []
    },
    {
      "cell_type": "code",
      "execution_count": null,
      "metadata": {
        "id": "2eb2RMB4fQQv"
      },
      "outputs": [],
      "source": []
    }
  ],
  "metadata": {
    "colab": {
      "provenance": []
    },
    "kernelspec": {
      "display_name": "Python 3",
      "name": "python3"
    },
    "language_info": {
      "codemirror_mode": {
        "name": "ipython",
        "version": 3
      },
      "file_extension": ".py",
      "mimetype": "text/x-python",
      "name": "python",
      "nbconvert_exporter": "python",
      "pygments_lexer": "ipython3",
      "version": "3.13.2"
    }
  },
  "nbformat": 4,
  "nbformat_minor": 0
}
